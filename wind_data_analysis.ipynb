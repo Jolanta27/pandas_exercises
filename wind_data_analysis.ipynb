{
  "nbformat": 4,
  "nbformat_minor": 0,
  "metadata": {
    "colab": {
      "provenance": [],
      "authorship_tag": "ABX9TyOV2ntDf76WoLqbNRLrAG1r",
      "include_colab_link": true
    },
    "kernelspec": {
      "name": "python3",
      "display_name": "Python 3"
    },
    "language_info": {
      "name": "python"
    }
  },
  "cells": [
    {
      "cell_type": "markdown",
      "metadata": {
        "id": "view-in-github",
        "colab_type": "text"
      },
      "source": [
        "<a href=\"https://colab.research.google.com/github/Jolanta27/pandas_exercises/blob/master/wind_data_analysis.ipynb\" target=\"_parent\"><img src=\"https://colab.research.google.com/assets/colab-badge.svg\" alt=\"Open In Colab\"/></a>"
      ]
    },
    {
      "cell_type": "code",
      "execution_count": 1,
      "metadata": {
        "colab": {
          "base_uri": "https://localhost:8080/",
          "height": 74
        },
        "id": "3w_kUcMX7Bj6",
        "outputId": "97475efe-865d-42ff-b510-7255fb056d36"
      },
      "outputs": [
        {
          "output_type": "display_data",
          "data": {
            "text/plain": [
              "<IPython.core.display.HTML object>"
            ],
            "text/html": [
              "\n",
              "     <input type=\"file\" id=\"files-e10323bd-d897-4d78-92c5-48dafca741cf\" name=\"files[]\" multiple disabled\n",
              "        style=\"border:none\" />\n",
              "     <output id=\"result-e10323bd-d897-4d78-92c5-48dafca741cf\">\n",
              "      Upload widget is only available when the cell has been executed in the\n",
              "      current browser session. Please rerun this cell to enable.\n",
              "      </output>\n",
              "      <script>// Copyright 2017 Google LLC\n",
              "//\n",
              "// Licensed under the Apache License, Version 2.0 (the \"License\");\n",
              "// you may not use this file except in compliance with the License.\n",
              "// You may obtain a copy of the License at\n",
              "//\n",
              "//      http://www.apache.org/licenses/LICENSE-2.0\n",
              "//\n",
              "// Unless required by applicable law or agreed to in writing, software\n",
              "// distributed under the License is distributed on an \"AS IS\" BASIS,\n",
              "// WITHOUT WARRANTIES OR CONDITIONS OF ANY KIND, either express or implied.\n",
              "// See the License for the specific language governing permissions and\n",
              "// limitations under the License.\n",
              "\n",
              "/**\n",
              " * @fileoverview Helpers for google.colab Python module.\n",
              " */\n",
              "(function(scope) {\n",
              "function span(text, styleAttributes = {}) {\n",
              "  const element = document.createElement('span');\n",
              "  element.textContent = text;\n",
              "  for (const key of Object.keys(styleAttributes)) {\n",
              "    element.style[key] = styleAttributes[key];\n",
              "  }\n",
              "  return element;\n",
              "}\n",
              "\n",
              "// Max number of bytes which will be uploaded at a time.\n",
              "const MAX_PAYLOAD_SIZE = 100 * 1024;\n",
              "\n",
              "function _uploadFiles(inputId, outputId) {\n",
              "  const steps = uploadFilesStep(inputId, outputId);\n",
              "  const outputElement = document.getElementById(outputId);\n",
              "  // Cache steps on the outputElement to make it available for the next call\n",
              "  // to uploadFilesContinue from Python.\n",
              "  outputElement.steps = steps;\n",
              "\n",
              "  return _uploadFilesContinue(outputId);\n",
              "}\n",
              "\n",
              "// This is roughly an async generator (not supported in the browser yet),\n",
              "// where there are multiple asynchronous steps and the Python side is going\n",
              "// to poll for completion of each step.\n",
              "// This uses a Promise to block the python side on completion of each step,\n",
              "// then passes the result of the previous step as the input to the next step.\n",
              "function _uploadFilesContinue(outputId) {\n",
              "  const outputElement = document.getElementById(outputId);\n",
              "  const steps = outputElement.steps;\n",
              "\n",
              "  const next = steps.next(outputElement.lastPromiseValue);\n",
              "  return Promise.resolve(next.value.promise).then((value) => {\n",
              "    // Cache the last promise value to make it available to the next\n",
              "    // step of the generator.\n",
              "    outputElement.lastPromiseValue = value;\n",
              "    return next.value.response;\n",
              "  });\n",
              "}\n",
              "\n",
              "/**\n",
              " * Generator function which is called between each async step of the upload\n",
              " * process.\n",
              " * @param {string} inputId Element ID of the input file picker element.\n",
              " * @param {string} outputId Element ID of the output display.\n",
              " * @return {!Iterable<!Object>} Iterable of next steps.\n",
              " */\n",
              "function* uploadFilesStep(inputId, outputId) {\n",
              "  const inputElement = document.getElementById(inputId);\n",
              "  inputElement.disabled = false;\n",
              "\n",
              "  const outputElement = document.getElementById(outputId);\n",
              "  outputElement.innerHTML = '';\n",
              "\n",
              "  const pickedPromise = new Promise((resolve) => {\n",
              "    inputElement.addEventListener('change', (e) => {\n",
              "      resolve(e.target.files);\n",
              "    });\n",
              "  });\n",
              "\n",
              "  const cancel = document.createElement('button');\n",
              "  inputElement.parentElement.appendChild(cancel);\n",
              "  cancel.textContent = 'Cancel upload';\n",
              "  const cancelPromise = new Promise((resolve) => {\n",
              "    cancel.onclick = () => {\n",
              "      resolve(null);\n",
              "    };\n",
              "  });\n",
              "\n",
              "  // Wait for the user to pick the files.\n",
              "  const files = yield {\n",
              "    promise: Promise.race([pickedPromise, cancelPromise]),\n",
              "    response: {\n",
              "      action: 'starting',\n",
              "    }\n",
              "  };\n",
              "\n",
              "  cancel.remove();\n",
              "\n",
              "  // Disable the input element since further picks are not allowed.\n",
              "  inputElement.disabled = true;\n",
              "\n",
              "  if (!files) {\n",
              "    return {\n",
              "      response: {\n",
              "        action: 'complete',\n",
              "      }\n",
              "    };\n",
              "  }\n",
              "\n",
              "  for (const file of files) {\n",
              "    const li = document.createElement('li');\n",
              "    li.append(span(file.name, {fontWeight: 'bold'}));\n",
              "    li.append(span(\n",
              "        `(${file.type || 'n/a'}) - ${file.size} bytes, ` +\n",
              "        `last modified: ${\n",
              "            file.lastModifiedDate ? file.lastModifiedDate.toLocaleDateString() :\n",
              "                                    'n/a'} - `));\n",
              "    const percent = span('0% done');\n",
              "    li.appendChild(percent);\n",
              "\n",
              "    outputElement.appendChild(li);\n",
              "\n",
              "    const fileDataPromise = new Promise((resolve) => {\n",
              "      const reader = new FileReader();\n",
              "      reader.onload = (e) => {\n",
              "        resolve(e.target.result);\n",
              "      };\n",
              "      reader.readAsArrayBuffer(file);\n",
              "    });\n",
              "    // Wait for the data to be ready.\n",
              "    let fileData = yield {\n",
              "      promise: fileDataPromise,\n",
              "      response: {\n",
              "        action: 'continue',\n",
              "      }\n",
              "    };\n",
              "\n",
              "    // Use a chunked sending to avoid message size limits. See b/62115660.\n",
              "    let position = 0;\n",
              "    do {\n",
              "      const length = Math.min(fileData.byteLength - position, MAX_PAYLOAD_SIZE);\n",
              "      const chunk = new Uint8Array(fileData, position, length);\n",
              "      position += length;\n",
              "\n",
              "      const base64 = btoa(String.fromCharCode.apply(null, chunk));\n",
              "      yield {\n",
              "        response: {\n",
              "          action: 'append',\n",
              "          file: file.name,\n",
              "          data: base64,\n",
              "        },\n",
              "      };\n",
              "\n",
              "      let percentDone = fileData.byteLength === 0 ?\n",
              "          100 :\n",
              "          Math.round((position / fileData.byteLength) * 100);\n",
              "      percent.textContent = `${percentDone}% done`;\n",
              "\n",
              "    } while (position < fileData.byteLength);\n",
              "  }\n",
              "\n",
              "  // All done.\n",
              "  yield {\n",
              "    response: {\n",
              "      action: 'complete',\n",
              "    }\n",
              "  };\n",
              "}\n",
              "\n",
              "scope.google = scope.google || {};\n",
              "scope.google.colab = scope.google.colab || {};\n",
              "scope.google.colab._files = {\n",
              "  _uploadFiles,\n",
              "  _uploadFilesContinue,\n",
              "};\n",
              "})(self);\n",
              "</script> "
            ]
          },
          "metadata": {}
        },
        {
          "output_type": "stream",
          "name": "stdout",
          "text": [
            "Saving wind.csv to wind.csv\n"
          ]
        }
      ],
      "source": [
        "from google.colab import files\n",
        "uploaded = files.upload()"
      ]
    },
    {
      "cell_type": "markdown",
      "source": [
        "1. Wczytaj dane z załączonego pliku .csv i zapisz je w zmiennej data klasy pd.DataFrame(). Zastąp pierwsze 3 kolumny odpowiednim formatem datetime.\n",
        "\n",
        "Wszystkie niezbędne biblioteki są importowane.\n",
        "\n",
        "Pierwsza kolumna zawiera właściwe dane po odczytaniu pliku .csv w pandas.\n",
        "\n",
        "Zaimportowana ramka danych zawiera 6574 wierszy i 13 kolumn.\n"
      ],
      "metadata": {
        "id": "Z9VnGjvl_1RQ"
      }
    },
    {
      "cell_type": "code",
      "source": [
        "import pandas as pd\n",
        "data = pd.read_csv('wind.csv')\n",
        "\n",
        "data['Yr_Mo_Dy'] = pd.to_datetime(data[['Yr', 'Mo', 'Dy']].astype(str).agg('-'.join, axis=1), format='%y-%m-%d')\n",
        "\n",
        "future = data['Yr_Mo_Dy'] > pd.to_datetime('today')\n",
        "data.loc[future, 'Yr_Mo_Dy'] -= pd.DateOffset(years=100)\n",
        "\n",
        "data = data.drop(['Yr', 'Mo', 'Dy'], axis=1)\n",
        "\n",
        "print(data.head)\n",
        "print(data.shape)"
      ],
      "metadata": {
        "colab": {
          "base_uri": "https://localhost:8080/"
        },
        "id": "ToWL0W497V8M",
        "outputId": "768017fc-70d7-4144-f262-acd05fc3bd25"
      },
      "execution_count": 22,
      "outputs": [
        {
          "output_type": "stream",
          "name": "stdout",
          "text": [
            "<bound method NDFrame.head of         RPT    VAL    ROS    KIL    SHA    BIR    DUB    CLA    MUL    CLO  \\\n",
            "0     15.04  14.96  13.17   9.29    NaN   9.87  13.67  10.25  10.83  12.58   \n",
            "1     14.71    NaN  10.83   6.50  12.62   7.67  11.50  10.04   9.79   9.67   \n",
            "2     18.50  16.88  12.33  10.13  11.17   6.17  11.25    NaN   8.50   7.67   \n",
            "3     10.58   6.63  11.75   4.58   4.54   2.88   8.63   1.79   5.83   5.88   \n",
            "4     13.33  13.25  11.42   6.17  10.71   8.21  11.92   6.54  10.92  10.34   \n",
            "...     ...    ...    ...    ...    ...    ...    ...    ...    ...    ...   \n",
            "6569  17.58  16.96  17.62   8.08  13.21  11.67  14.46  15.59  14.04  14.00   \n",
            "6570  13.21   5.46  13.46   5.00   8.12   9.42  14.33  16.25  15.25  18.05   \n",
            "6571  14.00  10.29  14.42   8.71   9.71  10.54  19.17  12.46  14.50  16.42   \n",
            "6572  18.50  14.04  21.29   9.13  12.75   9.71  18.08  12.87  12.46  12.12   \n",
            "6573  20.33  17.41  27.29   9.59  12.08  10.13  19.25  11.63  11.58  11.38   \n",
            "\n",
            "        BEL    MAL   Yr_Mo_Dy  \n",
            "0     18.50  15.04 1961-01-01  \n",
            "1     17.54  13.83 1961-01-02  \n",
            "2     12.75  12.71 1961-01-03  \n",
            "3      5.46  10.88 1961-01-04  \n",
            "4     12.92  11.83 1961-01-05  \n",
            "...     ...    ...        ...  \n",
            "6569  17.21  40.08 1978-12-27  \n",
            "6570  21.79  41.46 1978-12-28  \n",
            "6571  18.88  29.58 1978-12-29  \n",
            "6572  14.67  28.79 1978-12-30  \n",
            "6573  12.08  22.08 1978-12-31  \n",
            "\n",
            "[6574 rows x 13 columns]>\n",
            "(6574, 13)\n"
          ]
        }
      ]
    },
    {
      "cell_type": "markdown",
      "source": [
        "2. Rok 2061? Z pewnością nie posiadamy danych z przyszłości. Skonstruuj funkcję korygującą tę anomalię i zaimplementuj ją. Jeśli rok daty przekracza 1989, oznacza to błąd danych. Sprawdź, jak często się to zdarza. W takich przypadkach odejmij 100 od roku, aby naprawić błąd.\n",
        "\n",
        "Wszystkie daty przypadają na lata 1961-1978"
      ],
      "metadata": {
        "id": "vIHWkGG9AENJ"
      }
    },
    {
      "cell_type": "code",
      "source": [
        "import pandas as pd\n",
        "\n",
        "def correct_year(date):\n",
        "    if date.year > 1989:\n",
        "        return date.replace(year = date.year - 100)\n",
        "    else:\n",
        "        return date\n",
        "\n",
        "data = pd.read_csv('wind.csv', parse_dates=[['Yr', 'Mo', 'Dy']])\n",
        "\n",
        "data['Yr_Mo_Dy'] = data['Yr_Mo_Dy'].apply(correct_year)\n",
        "\n",
        "anomaly_count = sum(data['Yr_Mo_Dy'].dt.year > 1989)\n",
        "\n",
        "print(f\"The anomaly occurs {anomaly_count} times.\")\n",
        "\n",
        "print(data.head())\n"
      ],
      "metadata": {
        "colab": {
          "base_uri": "https://localhost:8080/"
        },
        "id": "G3BQ6wpoAPlI",
        "outputId": "0dfeffda-3509-4055-b49d-ba5027051a4b"
      },
      "execution_count": 43,
      "outputs": [
        {
          "output_type": "stream",
          "name": "stderr",
          "text": [
            "<ipython-input-43-ecc7bf0e4788>:9: UserWarning: Could not infer format, so each element will be parsed individually, falling back to `dateutil`. To ensure parsing is consistent and as-expected, please specify a format.\n",
            "  data = pd.read_csv('wind.csv', parse_dates=[['Yr', 'Mo', 'Dy']])\n"
          ]
        },
        {
          "output_type": "stream",
          "name": "stdout",
          "text": [
            "The anomaly occurs 0 times.\n",
            "    Yr_Mo_Dy    RPT    VAL    ROS    KIL    SHA   BIR    DUB    CLA    MUL  \\\n",
            "0 1961-01-01  15.04  14.96  13.17   9.29    NaN  9.87  13.67  10.25  10.83   \n",
            "1 1961-01-02  14.71    NaN  10.83   6.50  12.62  7.67  11.50  10.04   9.79   \n",
            "2 1961-01-03  18.50  16.88  12.33  10.13  11.17  6.17  11.25    NaN   8.50   \n",
            "3 1961-01-04  10.58   6.63  11.75   4.58   4.54  2.88   8.63   1.79   5.83   \n",
            "4 1961-01-05  13.33  13.25  11.42   6.17  10.71  8.21  11.92   6.54  10.92   \n",
            "\n",
            "     CLO    BEL    MAL  \n",
            "0  12.58  18.50  15.04  \n",
            "1   9.67  17.54  13.83  \n",
            "2   7.67  12.75  12.71  \n",
            "3   5.88   5.46  10.88  \n",
            "4  10.34  12.92  11.83  \n"
          ]
        }
      ]
    },
    {
      "cell_type": "markdown",
      "source": [
        "3. Ustaw poprawione daty jako indeksy. Zwróć uwagę na typ danych, powinien to być datetime64!\n",
        "\n",
        "Typ kolumny daty został przekształcony do datetime64.\n",
        "\n",
        "Kolumna Date jest ustawiona jako indeks DataFrame"
      ],
      "metadata": {
        "id": "X8F6mAkAFed1"
      }
    },
    {
      "cell_type": "code",
      "source": [
        "data = pd.read_csv('wind.csv', parse_dates=[['Yr', 'Mo', 'Dy']])\n",
        "\n",
        "# Zastosuj funkcję correct_year do kolumny 'Yr_Mo_Dy'\n",
        "data['Yr_Mo_Dy'] = data['Yr_Mo_Dy'].apply(correct_year)\n",
        "\n",
        "# Ustaw poprawione daty jako indeks\n",
        "data.set_index('Yr_Mo_Dy', inplace=True)\n",
        "\n",
        "# Sprawdź typ danych indeksu\n",
        "print(data.index.dtype)\n",
        "\n",
        "print(data.head())"
      ],
      "metadata": {
        "colab": {
          "base_uri": "https://localhost:8080/"
        },
        "id": "jZzaimihFmHa",
        "outputId": "881b6444-6c7a-45d4-9c6e-ce3b536fff60"
      },
      "execution_count": 44,
      "outputs": [
        {
          "output_type": "stream",
          "name": "stderr",
          "text": [
            "<ipython-input-44-81e4d7e6c650>:1: UserWarning: Could not infer format, so each element will be parsed individually, falling back to `dateutil`. To ensure parsing is consistent and as-expected, please specify a format.\n",
            "  data = pd.read_csv('wind.csv', parse_dates=[['Yr', 'Mo', 'Dy']])\n"
          ]
        },
        {
          "output_type": "stream",
          "name": "stdout",
          "text": [
            "datetime64[ns]\n",
            "              RPT    VAL    ROS    KIL    SHA   BIR    DUB    CLA    MUL  \\\n",
            "Yr_Mo_Dy                                                                   \n",
            "1961-01-01  15.04  14.96  13.17   9.29    NaN  9.87  13.67  10.25  10.83   \n",
            "1961-01-02  14.71    NaN  10.83   6.50  12.62  7.67  11.50  10.04   9.79   \n",
            "1961-01-03  18.50  16.88  12.33  10.13  11.17  6.17  11.25    NaN   8.50   \n",
            "1961-01-04  10.58   6.63  11.75   4.58   4.54  2.88   8.63   1.79   5.83   \n",
            "1961-01-05  13.33  13.25  11.42   6.17  10.71  8.21  11.92   6.54  10.92   \n",
            "\n",
            "              CLO    BEL    MAL  \n",
            "Yr_Mo_Dy                         \n",
            "1961-01-01  12.58  18.50  15.04  \n",
            "1961-01-02   9.67  17.54  13.83  \n",
            "1961-01-03   7.67  12.75  12.71  \n",
            "1961-01-04   5.88   5.46  10.88  \n",
            "1961-01-05  10.34  12.92  11.83  \n"
          ]
        }
      ]
    },
    {
      "cell_type": "markdown",
      "source": [
        "4. Oblicz, ile wartości brakuje dla każdej lokalizacji w całym okresie.\n",
        "\n",
        "Liczba brakujących wartości dla każdej lokalizacji:\n"
      ],
      "metadata": {
        "id": "mnoii0rsJUdO"
      }
    },
    {
      "cell_type": "code",
      "source": [
        "missing_values = data.isnull().sum()\n",
        "\n",
        "print(missing_values)"
      ],
      "metadata": {
        "colab": {
          "base_uri": "https://localhost:8080/"
        },
        "id": "xgAPf9DbJtgI",
        "outputId": "b945e674-eef8-4ac2-c6a8-b219701cf86c"
      },
      "execution_count": 45,
      "outputs": [
        {
          "output_type": "stream",
          "name": "stdout",
          "text": [
            "RPT    6\n",
            "VAL    3\n",
            "ROS    2\n",
            "KIL    5\n",
            "SHA    2\n",
            "BIR    0\n",
            "DUB    3\n",
            "CLA    2\n",
            "MUL    3\n",
            "CLO    1\n",
            "BEL    0\n",
            "MAL    4\n",
            "dtype: int64\n"
          ]
        }
      ]
    },
    {
      "cell_type": "markdown",
      "source": [
        "5. Oblicz średnią prędkość wiatru we wszystkich lokalizacjach i dla całego zbioru danych (innymi słowy, z każdego wiersza jednocześnie). Zaokrąglij ostateczną wartość do dwóch miejsc po przecinku.\n",
        "\n",
        "Oczekiwany wynik to około: 10.23"
      ],
      "metadata": {
        "id": "Fl4Enc_yJ-38"
      }
    },
    {
      "cell_type": "markdown",
      "source": [],
      "metadata": {
        "id": "3r_XtdxRKsUS"
      }
    },
    {
      "cell_type": "code",
      "source": [
        "average_wind_speed = data.mean().mean()\n",
        "average_wind_speed = round(average_wind_speed, 2)\n",
        "\n",
        "print(average_wind_speed)"
      ],
      "metadata": {
        "colab": {
          "base_uri": "https://localhost:8080/"
        },
        "id": "I5hP526tKKM9",
        "outputId": "b7d95505-36bb-4f84-a86a-692d0c43a2a1"
      },
      "execution_count": 48,
      "outputs": [
        {
          "output_type": "stream",
          "name": "stdout",
          "text": [
            "10.23\n"
          ]
        }
      ]
    },
    {
      "cell_type": "markdown",
      "source": [
        "6. Skonstruuj pd.DataFrame() o nazwie wind_stats i określ minimalne, maksymalne, średnie prędkości wiatru oraz odchylenia standardowe prędkości wiatru dla każdej lokalizacji we wszystkich dniach."
      ],
      "metadata": {
        "id": "kL8gyQrHKra1"
      }
    },
    {
      "cell_type": "code",
      "source": [
        "wind_stats = data.describe()\n",
        "wind_stats = wind_stats.loc[['min', 'max', 'mean', 'std']]\n",
        "\n",
        "print(wind_stats)"
      ],
      "metadata": {
        "colab": {
          "base_uri": "https://localhost:8080/"
        },
        "id": "h_CE-gG5Ktfy",
        "outputId": "10c4821d-31e4-46eb-b850-3ef1f3ec204f"
      },
      "execution_count": 50,
      "outputs": [
        {
          "output_type": "stream",
          "name": "stdout",
          "text": [
            "            RPT        VAL        ROS        KIL        SHA        BIR  \\\n",
            "min    0.670000   0.210000   1.500000   0.000000   0.130000   0.000000   \n",
            "max   35.800000  33.370000  33.840000  28.460000  37.540000  26.160000   \n",
            "mean  12.362987  10.644314  11.660526   6.306468  10.455834   7.092254   \n",
            "std    5.618413   5.267356   5.008450   3.605811   4.936125   3.968683   \n",
            "\n",
            "            DUB        CLA        MUL        CLO        BEL        MAL  \n",
            "min    0.000000   0.000000   0.000000   0.040000   0.130000   0.670000  \n",
            "max   30.370000  31.080000  25.880000  28.210000  42.380000  42.540000  \n",
            "mean   9.797343   8.495053   8.493590   8.707332  13.121007  15.599079  \n",
            "std    4.977555   4.499449   4.166872   4.503954   5.835037   6.699794  \n"
          ]
        }
      ]
    },
    {
      "cell_type": "markdown",
      "source": [
        "7. Skonstruuj pd.DataFrame() o nazwie wind_stats_daily i oblicz minimalną, maksymalną, średnią prędkość wiatru i odchylenia standardowe prędkości wiatru we wszystkich lokalizacjach dla każdego dnia osobno.\n",
        "\n",
        "Wynikowa tabela powinna wyglądać następująco:\n",
        "\n",
        "| min | max | średnia | std | |------------|------|-------|-----------|----------| | Yr_Mo_Dy | | | | | | | | 1961-01-01 | 9.29 | 18.50 | 13.018182 | 2.808875 | | 1961-01-02 | 6.50 | 17.54 | 11.336364 | 3.188994 | | 1961-01-03 | 6.17 | 18.50 | 11.641818 | 3.681912 | | 1961-01-04 | 1.79 | 11.75 | 6.619167 | 3.198126 | | 1961-01-05 | 6.17 | 13.33 | 10.630000 | 2.445356 |"
      ],
      "metadata": {
        "id": "Cydlj27kLYnx"
      }
    },
    {
      "cell_type": "code",
      "source": [
        "wind_stats_daily = data.resample('D').agg(['min', 'max', 'mean', 'std'])\n",
        "\n",
        "print(wind_stats_daily.head())"
      ],
      "metadata": {
        "colab": {
          "base_uri": "https://localhost:8080/"
        },
        "id": "sFiecrsfLacO",
        "outputId": "60e0f0b7-6adc-46f6-b5cb-0be0422e966b"
      },
      "execution_count": 51,
      "outputs": [
        {
          "output_type": "stream",
          "name": "stdout",
          "text": [
            "              RPT                      VAL                      ROS         \\\n",
            "              min    max   mean std    min    max   mean std    min    max   \n",
            "Yr_Mo_Dy                                                                     \n",
            "1961-01-01  15.04  15.04  15.04 NaN  14.96  14.96  14.96 NaN  13.17  13.17   \n",
            "1961-01-02  14.71  14.71  14.71 NaN    NaN    NaN    NaN NaN  10.83  10.83   \n",
            "1961-01-03  18.50  18.50  18.50 NaN  16.88  16.88  16.88 NaN  12.33  12.33   \n",
            "1961-01-04  10.58  10.58  10.58 NaN   6.63   6.63   6.63 NaN  11.75  11.75   \n",
            "1961-01-05  13.33  13.33  13.33 NaN  13.25  13.25  13.25 NaN  11.42  11.42   \n",
            "\n",
            "            ...    CLO        BEL                      MAL                    \n",
            "            ...   mean std    min    max   mean std    min    max   mean std  \n",
            "Yr_Mo_Dy    ...                                                               \n",
            "1961-01-01  ...  12.58 NaN  18.50  18.50  18.50 NaN  15.04  15.04  15.04 NaN  \n",
            "1961-01-02  ...   9.67 NaN  17.54  17.54  17.54 NaN  13.83  13.83  13.83 NaN  \n",
            "1961-01-03  ...   7.67 NaN  12.75  12.75  12.75 NaN  12.71  12.71  12.71 NaN  \n",
            "1961-01-04  ...   5.88 NaN   5.46   5.46   5.46 NaN  10.88  10.88  10.88 NaN  \n",
            "1961-01-05  ...  10.34 NaN  12.92  12.92  12.92 NaN  11.83  11.83  11.83 NaN  \n",
            "\n",
            "[5 rows x 48 columns]\n"
          ]
        }
      ]
    },
    {
      "cell_type": "markdown",
      "source": [
        "8. Określ średnią prędkość wiatru dla każdej lokalizacji w styczniu."
      ],
      "metadata": {
        "id": "chhBljSTMaY1"
      }
    },
    {
      "cell_type": "code",
      "source": [
        "january_winds = data[data.index.month == 1].mean()\n",
        "\n",
        "print(january_winds)"
      ],
      "metadata": {
        "colab": {
          "base_uri": "https://localhost:8080/"
        },
        "id": "IMib1l5UMbJG",
        "outputId": "3df353ae-21ba-4190-b0eb-2648cb6a35ed"
      },
      "execution_count": 52,
      "outputs": [
        {
          "output_type": "stream",
          "name": "stdout",
          "text": [
            "RPT    14.847325\n",
            "VAL    12.914560\n",
            "ROS    13.299624\n",
            "KIL     7.199498\n",
            "SHA    11.667734\n",
            "BIR     8.054839\n",
            "DUB    11.819355\n",
            "CLA     9.512047\n",
            "MUL     9.543208\n",
            "CLO    10.053566\n",
            "BEL    14.550520\n",
            "MAL    18.028763\n",
            "dtype: float64\n"
          ]
        }
      ]
    },
    {
      "cell_type": "markdown",
      "source": [
        "9. Oblicz średnią roczną prędkość wiatru dla każdej lokalizacji."
      ],
      "metadata": {
        "id": "yjMpJ3wDMvFI"
      }
    },
    {
      "cell_type": "code",
      "source": [
        "annual_wind_speed = data.resample('A').mean()\n",
        "\n",
        "print(annual_wind_speed)"
      ],
      "metadata": {
        "colab": {
          "base_uri": "https://localhost:8080/"
        },
        "id": "Xzxe4raeMxvY",
        "outputId": "4a82223d-9d67-416c-88b5-1c98108fd8be"
      },
      "execution_count": 53,
      "outputs": [
        {
          "output_type": "stream",
          "name": "stdout",
          "text": [
            "                  RPT        VAL        ROS       KIL        SHA       BIR  \\\n",
            "Yr_Mo_Dy                                                                     \n",
            "1961-12-31  12.299583  10.351796  11.362369  6.958227  10.881763  7.729726   \n",
            "1962-12-31  12.246923  10.110438  11.732712  6.960440  10.657918  7.393068   \n",
            "1963-12-31  12.813452  10.836986  12.541151  7.330055  11.724110  8.434712   \n",
            "1964-12-31  12.363661  10.920164  12.104372  6.787787  11.454481  7.570874   \n",
            "1965-12-31  12.451370  11.075534  11.848767  6.858466  11.024795  7.478110   \n",
            "1966-12-31  13.461973  11.557205  12.020630  7.345726  11.805041  7.793671   \n",
            "1967-12-31  12.737151  10.990986  11.739397  7.143425  11.630740  7.368164   \n",
            "1968-12-31  11.835628  10.468197  11.409754  6.477678  10.760765  6.067322   \n",
            "1969-12-31  11.166356   9.723699  10.902000  5.767973   9.873918  6.189973   \n",
            "1970-12-31  12.600329  10.726932  11.730247  6.217178  10.567370  7.609452   \n",
            "1971-12-31  11.273123   9.095178  11.088329  5.241507   9.440329  6.097151   \n",
            "1972-12-31  12.463962  10.561311  12.058333  5.929699   9.430410  6.358825   \n",
            "1973-12-31  11.828466  10.680493  10.680493  5.547863   9.640877  6.548740   \n",
            "1974-12-31  13.643096  11.811781  12.336356  6.427041  11.110986  6.809781   \n",
            "1975-12-31  12.008575  10.293836  11.564712  5.269096   9.190082  5.668521   \n",
            "1976-12-31  11.737842  10.203115  10.761230  5.109426   8.846339  6.311038   \n",
            "1977-12-31  13.099616  11.144493  12.627836  6.073945  10.003836  8.586438   \n",
            "1978-12-31  12.504356  11.044274  11.380000  6.082356  10.167233  7.650658   \n",
            "\n",
            "                  DUB        CLA       MUL        CLO        BEL        MAL  \n",
            "Yr_Mo_Dy                                                                     \n",
            "1961-12-31   9.733923   8.858788  8.647652   9.835577  13.502795  13.680773  \n",
            "1962-12-31  11.020712   8.793753  8.316822   9.676247  12.930685  14.323956  \n",
            "1963-12-31  11.075699  10.336548  8.903589  10.224438  13.638877  14.999014  \n",
            "1964-12-31  10.259153   9.467350  7.789016  10.207951  13.740546  14.910301  \n",
            "1965-12-31  10.618712   8.879918  7.907425   9.918082  12.964247  15.591644  \n",
            "1966-12-31  10.579808   8.835096  8.514438   9.768959  14.265836  16.307260  \n",
            "1967-12-31  10.652027   9.325616  8.645014   9.547425  14.774548  17.135945  \n",
            "1968-12-31   8.859180   8.255519  7.224945   7.832978  12.808634  15.017486  \n",
            "1969-12-31   8.564493   7.711397  7.924521   7.754384  12.621233  15.762904  \n",
            "1970-12-31   9.609890   8.334630  9.297616   8.289808  13.183644  16.456027  \n",
            "1971-12-31   8.385890   6.757315  7.915370   7.229753  12.208932  15.025233  \n",
            "1972-12-31   9.704508   7.680792  8.357295   7.515273  12.727377  15.028716  \n",
            "1973-12-31   8.482110   7.614274  8.245534   7.812411  12.169699  15.441096  \n",
            "1974-12-31  10.084603   9.896986  9.331753   8.736356  13.252959  16.947671  \n",
            "1975-12-31   8.562603   7.843836  8.797945   7.382822  12.631671  15.307863  \n",
            "1976-12-31   9.149126   7.146202  8.883716   7.883087  12.332377  15.471448  \n",
            "1977-12-31  11.523205   8.378384  9.098192   8.821616  13.459068  16.590849  \n",
            "1978-12-31   9.489342   8.800466  9.089753   8.301699  12.967397  16.771370  \n"
          ]
        }
      ]
    },
    {
      "cell_type": "markdown",
      "source": [
        "10. Zmniejsz zestaw danych do częstotliwości tygodniowej dla każdej lokalizacji, agregując punkty danych, aby reprezentowały każdy tydzień (uzyskując średnie wartości)."
      ],
      "metadata": {
        "id": "fJvHJbAfNEua"
      }
    },
    {
      "cell_type": "code",
      "source": [
        "weekly_data = data.resample('W').mean()\n",
        "\n",
        "print(weekly_data.head())"
      ],
      "metadata": {
        "colab": {
          "base_uri": "https://localhost:8080/"
        },
        "id": "71yj1_FINRHY",
        "outputId": "6d29c243-c5d0-4330-f76c-8e990335c114"
      },
      "execution_count": 54,
      "outputs": [
        {
          "output_type": "stream",
          "name": "stdout",
          "text": [
            "                  RPT        VAL        ROS        KIL        SHA        BIR  \\\n",
            "Yr_Mo_Dy                                                                       \n",
            "1961-01-01  15.040000  14.960000  13.170000   9.290000        NaN   9.870000   \n",
            "1961-01-08  13.541429  11.486667  10.487143   6.417143   9.474286   6.435714   \n",
            "1961-01-15  12.468571   8.967143  11.958571   4.630000   7.351429   5.072857   \n",
            "1961-01-22  13.204286   9.862857  12.982857   6.328571   8.966667   7.417143   \n",
            "1961-01-29  19.880000  16.141429  18.225714  12.720000  17.432857  14.828571   \n",
            "\n",
            "                  DUB        CLA        MUL        CLO        BEL        MAL  \n",
            "Yr_Mo_Dy                                                                      \n",
            "1961-01-01  13.670000  10.250000  10.830000  12.580000  18.500000  15.040000  \n",
            "1961-01-08  11.061429   6.616667   8.434286   8.497143  12.481429  13.238571  \n",
            "1961-01-15   7.535714   6.820000   5.712857   7.571429  11.125714  11.024286  \n",
            "1961-01-22   9.257143   7.875714   7.145714   8.124286   9.821429  11.434286  \n",
            "1961-01-29  15.528571  15.160000  14.480000  15.640000  20.930000  22.530000  \n"
          ]
        }
      ]
    },
    {
      "cell_type": "markdown",
      "source": [
        "11. Oblicz minimalne, maksymalne, średnie prędkości wiatru i odchylenia standardowe prędkości wiatru we wszystkich lokalizacjach dla każdego tygodnia, począwszy od tygodnia 2 stycznia 1961 r., obejmującego początkowe 52 tygodnie.\n",
        "\n",
        "Wynik jest następujący:\n",
        "\n",
        "| | RPT | | | VAL | | | | |------------|-------|-------|-----------|----------|------|-------|-----------|----------| | | min | max | śr | std | | min | max | śr | std | | | | | | | | | | | | | | | | | | | | | | | | | | | 1961-01-08 | 10.58 | 18.50 | 13.541429 | 2.631321 | 6.63 | 16.88 | 11.486667 | 3.949525 | | 1961-01-15 | 9.04 | 19.75 | 12.468571 | 3.555392 | 3.54 | 12.08 | 8.967143 | 3.148945 | | 1961-01-22 | 4.92 | 19.83 | 13.204286 | 5.337402 | 3.42 | 14.37 | 9.862857 | 3.837785 | | 1961-01-29 | 13.62 | 25.04 | 19.880000 | 4.619061 | 9.96 | 23.91 | 16.141429 | 5.170224 | | 1961-02-05 | 10.58 | 24.21 | 16.827143 | 5.251408 | 9.46 | 24.21 | 15.460000 | 5.187395 |"
      ],
      "metadata": {
        "id": "w7xIFTgrNgdG"
      }
    },
    {
      "cell_type": "code",
      "source": [
        "weekly_stats = data['1961-01-02':'1962-01-01'].resample('W').agg(['min', 'max', 'mean', 'std'])\n",
        "\n",
        "print(weekly_stats.head())"
      ],
      "metadata": {
        "colab": {
          "base_uri": "https://localhost:8080/"
        },
        "id": "BZDiAaU8NkqW",
        "outputId": "03bfc851-4d5d-4def-e952-b727071d183b"
      },
      "execution_count": 55,
      "outputs": [
        {
          "output_type": "stream",
          "name": "stdout",
          "text": [
            "              RPT                               VAL                    \\\n",
            "              min    max       mean       std   min    max       mean   \n",
            "Yr_Mo_Dy                                                                \n",
            "1961-01-08  10.58  18.50  13.541429  2.631321  6.63  16.88  11.486667   \n",
            "1961-01-15   9.04  19.75  12.468571  3.555392  3.54  12.08   8.967143   \n",
            "1961-01-22   4.92  19.83  13.204286  5.337402  3.42  14.37   9.862857   \n",
            "1961-01-29  13.62  25.04  19.880000  4.619061  9.96  23.91  16.141429   \n",
            "1961-02-05  10.58  24.21  16.827143  5.251408  9.46  24.21  15.460000   \n",
            "\n",
            "                        ROS         ...        CLO              BEL         \\\n",
            "                 std    min    max  ...       mean       std    min    max   \n",
            "Yr_Mo_Dy                            ...                                      \n",
            "1961-01-08  3.949525   7.62  12.33  ...   8.497143  1.704941   5.46  17.54   \n",
            "1961-01-15  3.148945   7.08  19.50  ...   7.571429  4.084293   5.25  20.71   \n",
            "1961-01-22  3.837785   7.29  20.79  ...   8.124286  4.783952   6.50  15.92   \n",
            "1961-01-29  5.170224  12.67  25.84  ...  15.640000  3.713368  14.04  27.71   \n",
            "1961-02-05  5.187395   9.04  19.70  ...   9.460000  2.839501   9.17  19.33   \n",
            "\n",
            "                                   MAL                              \n",
            "                 mean       std    min    max       mean       std  \n",
            "Yr_Mo_Dy                                                            \n",
            "1961-01-08  12.481429  4.349139  10.88  16.46  13.238571  1.773062  \n",
            "1961-01-15  11.125714  5.552215   5.17  16.92  11.024286  4.692355  \n",
            "1961-01-22   9.821429  3.626584   6.79  17.96  11.434286  4.237239  \n",
            "1961-01-29  20.930000  5.210726  17.50  27.63  22.530000  3.874721  \n",
            "1961-02-05  14.012857  4.210858   7.17  19.25  11.935714  4.336104  \n",
            "\n",
            "[5 rows x 48 columns]\n"
          ]
        }
      ]
    }
  ]
}